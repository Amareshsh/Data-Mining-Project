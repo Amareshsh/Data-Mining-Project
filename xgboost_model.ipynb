{
 "cells": [
  {
   "cell_type": "code",
   "execution_count": 1,
   "metadata": {},
   "outputs": [
    {
     "name": "stderr",
     "output_type": "stream",
     "text": [
      "/home/amaresh/anaconda3/lib/python3.6/site-packages/sklearn/cross_validation.py:41: DeprecationWarning: This module was deprecated in version 0.18 in favor of the model_selection module into which all the refactored classes and functions are moved. Also note that the interface of the new CV iterators are different from that of this module. This module will be removed in 0.20.\n",
      "  \"This module will be removed in 0.20.\", DeprecationWarning)\n"
     ]
    },
    {
     "name": "stdout",
     "output_type": "stream",
     "text": [
      "loading train data \n",
      "loading test data\n",
      "finished\n"
     ]
    }
   ],
   "source": [
    "import pandas as pd\n",
    "import numpy as np\n",
    "import xgboost as xgb\n",
    "import matplotlib.pyplot as plt\n",
    "import seaborn as sns\n",
    "color = sns.color_palette()\n",
    "\n",
    "%matplotlib inline\n",
    "# Reading datasets from external csv file\n",
    "print('loading train data ')\n",
    "train_x = pd.read_csv('train_x.csv', dtype={\n",
    "            'order_id': np.int32,\n",
    "            'product_id': np.uint16,\n",
    "            'user_total_orders':np.int8,\n",
    "            'user_total_items':np.int8,\n",
    "            'total_distinct_items':np.int8,\n",
    "            'user_average_days_between_orders':np.float32,\n",
    "            'user_average_basket':np.float32,\n",
    "            'dow':np.int8,\n",
    "            'order_hour_of_day':np.int8,\n",
    "            'days_since_prior_order':np.int16,\n",
    "            'days_since_ratio':np.float32,\n",
    "            'asile_id':np.int8,\n",
    "            'department_id':np.int8,\n",
    "            'product_orders':np.int16,\n",
    "            'product_reorders':np.int64,\n",
    "            'product_reorders_rate':np.float32,\n",
    "            'z':np.int32,\n",
    "            'UP_orders':np.int8,\n",
    "            'UP_orders_ratio':np.float32,\n",
    "            'UP_last_order_id':np.int32,\n",
    "            'UP_average_pos_in_cart':np.float32,\n",
    "            'UP_reorder_rate':np.float32,\n",
    "            'UP_orders_since_last':np.int8,\n",
    "            'UP_delta_hour_vs_last':np.int8})\n",
    "\n",
    "\n",
    "\n",
    "print('loading test data')\n",
    "\n",
    "test_x = pd.read_csv('test_x.csv', dtype={\n",
    "            'order_id': np.int32,\n",
    "            'product_id': np.uint16,\n",
    "            'user_total_orders':np.int8,\n",
    "            'user_total_items':np.int8,\n",
    "            'total_distinct_items':np.int8,\n",
    "            'user_average_days_between_orders':np.float32,\n",
    "            'user_average_basket':np.float32,\n",
    "            'dow':np.int8,\n",
    "            'order_hour_of_day':np.int8,\n",
    "            'days_since_prior_order':np.int16,\n",
    "            'days_since_ratio':np.float32,\n",
    "            'asile_id':np.int8,\n",
    "            'department_id':np.int8,\n",
    "            'product_orders':np.int16,\n",
    "            'product_reorders':np.int64,\n",
    "            'product_reorders_rate':np.float32,\n",
    "            'z':np.int32,\n",
    "            'UP_orders':np.int8,\n",
    "            'UP_orders_ratio':np.float32,\n",
    "            'UP_last_order_id':np.int32,\n",
    "            'UP_average_pos_in_cart':np.float32,\n",
    "            'UP_reorder_rate':np.float32,\n",
    "            'UP_orders_since_last':np.int8,\n",
    "            'UP_delta_hour_vs_last':np.int8})\n",
    "\n",
    "print('finished')"
   ]
  },
  {
   "cell_type": "code",
   "execution_count": 2,
   "metadata": {
    "collapsed": true
   },
   "outputs": [],
   "source": [
    "train_y = pd.read_csv('train_y.csv')"
   ]
  },
  {
   "cell_type": "code",
   "execution_count": 3,
   "metadata": {},
   "outputs": [
    {
     "data": {
      "text/plain": [
       "(8474661, 24)"
      ]
     },
     "execution_count": 3,
     "metadata": {},
     "output_type": "execute_result"
    }
   ],
   "source": [
    "train_x.shape"
   ]
  },
  {
   "cell_type": "code",
   "execution_count": 6,
   "metadata": {
    "collapsed": true
   },
   "outputs": [],
   "source": [
    "train_y = train_y.as_matrix()"
   ]
  },
  {
   "cell_type": "code",
   "execution_count": 8,
   "metadata": {},
   "outputs": [
    {
     "data": {
      "text/plain": [
       "8474661"
      ]
     },
     "execution_count": 8,
     "metadata": {},
     "output_type": "execute_result"
    }
   ],
   "source": [
    "train_y.size"
   ]
  },
  {
   "cell_type": "code",
   "execution_count": 9,
   "metadata": {
    "collapsed": true
   },
   "outputs": [],
   "source": [
    "# Features used for training the model\n",
    "f_to_use = ['user_total_orders', 'user_total_items', 'total_distinct_items',\n",
    "       'user_average_days_between_orders', 'user_average_basket',\n",
    "       'order_hour_of_day', 'days_since_prior_order', 'days_since_ratio',\n",
    "       'aisle_id', 'department_id', 'product_orders', 'product_reorders',\n",
    "       'product_reorder_rate', 'UP_orders', 'UP_orders_ratio',\n",
    "       'UP_average_pos_in_cart', 'UP_reorder_rate','dow','UP_orders_since_last','UP_delta_hour_vs_last'] \n",
    "\n",
    "xgdmat = xgb.DMatrix(train_x[f_to_use], train_y)\n",
    "del train_x\n",
    "del train_y\n",
    "\n",
    "our_params = {'eta': 0.1, 'subsample': 0.76, 'colsample_bytree': 0.95,'eval_metric':'auc','gamma':0.70,\n",
    "             'objective': 'binary:logistic', 'max_depth':6, 'min_child_weight':10,'alpha':2e-05,'lambda':10} \n",
    "\n",
    "# Grid Search CV optimized settings\n",
    "\n",
    "#cv_xgb = xgb.cv(params = our_params, dtrain = xgdmat, num_boost_round = 1000, nfold = 10,\n",
    "#                metrics = ['error'], # Make sure you enter metrics inside a list or you may encounter issues!\n",
    "#                early_stopping_rounds = 60) # Look for early stopping that minimizes error\n",
    "#cv_xgb.tail()\n",
    "\n",
    "final_gb = xgb.train(our_params, xgdmat, num_boost_round = 100)\n",
    "del xgdmat\n",
    "\n",
    "# Gathering required features for test_orders\n",
    "testdmat = xgb.DMatrix(test_x[f_to_use])\n",
    "\n",
    "y_pred = final_gb.predict(testdmat) # Predict using our testdmat\n",
    "del testdmat\n",
    "\n",
    "test_x['preds']=y_pred"
   ]
  },
  {
   "cell_type": "code",
   "execution_count": 11,
   "metadata": {},
   "outputs": [
    {
     "name": "stdout",
     "output_type": "stream",
     "text": [
      "loading orders\n"
     ]
    }
   ],
   "source": [
    "print('loading orders')\n",
    "orders = pd.read_csv('orders.csv', dtype={\n",
    "        'order_id': np.int32,\n",
    "        'user_id': np.int32,\n",
    "        'eval_set': 'category',\n",
    "        'order_number': np.int16,\n",
    "        'order_dow': np.int8,\n",
    "        'order_hour_of_day': np.int8,\n",
    "        'days_since_prior_order': np.float32})"
   ]
  },
  {
   "cell_type": "code",
   "execution_count": 12,
   "metadata": {},
   "outputs": [
    {
     "data": {
      "text/plain": [
       "order_id                  0\n",
       "user_id                   0\n",
       "eval_set                  0\n",
       "order_number              0\n",
       "order_dow                 0\n",
       "order_hour_of_day         0\n",
       "days_since_prior_order    0\n",
       "dtype: int64"
      ]
     },
     "execution_count": 12,
     "metadata": {},
     "output_type": "execute_result"
    }
   ],
   "source": [
    "value = 0\n",
    "orders['days_since_prior_order']=orders['days_since_prior_order'].fillna(value)\n",
    "orders['days_since_prior_order'] = orders['days_since_prior_order'].astype(int)\n",
    "orders.isnull().sum()  "
   ]
  },
  {
   "cell_type": "code",
   "execution_count": 13,
   "metadata": {
    "collapsed": true
   },
   "outputs": [],
   "source": [
    "test_orders = orders[orders.eval_set == 'test']"
   ]
  },
  {
   "cell_type": "code",
   "execution_count": 18,
   "metadata": {
    "collapsed": true
   },
   "outputs": [],
   "source": [
    "# Threshold value for classification is the error rate encountered in cross validation\n",
    "thres = 0.19\n",
    "d = dict()\n",
    "for row in test_x.itertuples():\n",
    "    if row.preds > thres:\n",
    "        try:\n",
    "            d[row.order_id] += ' ' + str(row.product_id)\n",
    "        except:\n",
    "            d[row.order_id] = str(row.product_id)\n",
    "\n",
    "for order in test_orders.order_id:\n",
    "    if order not in d:\n",
    "        d[order] = 'None'\n",
    "\n",
    "sub = pd.DataFrame.from_dict(d, orient='index')\n",
    "\n",
    "sub.reset_index(inplace=True)\n",
    "sub.columns = ['order_id', 'products']\n",
    "sub.to_csv('submission_xgboost.csv', index=False)"
   ]
  }
 ],
 "metadata": {
  "kernelspec": {
   "display_name": "Python 3",
   "language": "python",
   "name": "python3"
  },
  "language_info": {
   "codemirror_mode": {
    "name": "ipython",
    "version": 3
   },
   "file_extension": ".py",
   "mimetype": "text/x-python",
   "name": "python",
   "nbconvert_exporter": "python",
   "pygments_lexer": "ipython3",
   "version": "3.6.2"
  }
 },
 "nbformat": 4,
 "nbformat_minor": 2
}
