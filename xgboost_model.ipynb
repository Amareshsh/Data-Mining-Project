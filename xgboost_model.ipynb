{
 "cells": [
  {
   "cell_type": "markdown",
   "metadata": {},
   "source": [
    "## Xgboost model for submission\n",
    "\n",
    "### Import statements of preprocessed data"
   ]
  },
  {
   "cell_type": "code",
   "execution_count": 1,
   "metadata": {},
   "outputs": [
    {
     "name": "stderr",
     "output_type": "stream",
     "text": [
      "/home/amaresh/anaconda3/lib/python3.6/site-packages/sklearn/cross_validation.py:41: DeprecationWarning: This module was deprecated in version 0.18 in favor of the model_selection module into which all the refactored classes and functions are moved. Also note that the interface of the new CV iterators are different from that of this module. This module will be removed in 0.20.\n",
      "  \"This module will be removed in 0.20.\", DeprecationWarning)\n"
     ]
    },
    {
     "name": "stdout",
     "output_type": "stream",
     "text": [
      "loading train data \n",
      "loading test data\n",
      "loading orders\n",
      "finished\n"
     ]
    }
   ],
   "source": [
    "import pandas as pd\n",
    "import numpy as np\n",
    "import xgboost as xgb\n",
    "import matplotlib.pyplot as plt\n",
    "import seaborn as sns\n",
    "color = sns.color_palette()\n",
    "\n",
    "\n",
    "%matplotlib inline\n",
    "# Reading datasets from external csv file\n",
    "print('loading train data ')\n",
    "train_x = pd.read_csv('train_x.csv', dtype={\n",
    "            'order_id': np.int32,\n",
    "            'product_id': np.uint16,\n",
    "            'user_total_orders':np.int8,\n",
    "            'user_total_items':np.int8,\n",
    "            'total_distinct_items':np.int8,\n",
    "            'user_average_days_between_orders':np.float32,\n",
    "            'user_average_basket':np.float32,\n",
    "            'dow':np.int8,\n",
    "            'order_hour_of_day':np.int8,\n",
    "            'days_since_prior_order':np.int16,\n",
    "            'days_since_ratio':np.float32,\n",
    "            'asile_id':np.int8,\n",
    "            'department_id':np.int8,\n",
    "            'product_orders':np.int16,\n",
    "            'product_reorders':np.int64,\n",
    "            'product_reorders_rate':np.float32,\n",
    "            'z':np.int32,\n",
    "            'UP_orders':np.int8,\n",
    "            'UP_orders_ratio':np.float32,\n",
    "            'UP_last_order_id':np.int32,\n",
    "            'UP_average_pos_in_cart':np.float32,\n",
    "            'UP_reorder_rate':np.float32,\n",
    "            'UP_orders_since_last':np.int8,\n",
    "            'UP_delta_hour_vs_last':np.int8})\n",
    "\n",
    "train_y = pd.read_csv('train_y.csv')\n",
    "train_y = train_y.as_matrix()\n",
    "\n",
    "\n",
    "\n",
    "print('loading test data')\n",
    "\n",
    "test_x = pd.read_csv('test_x.csv', dtype={\n",
    "            'order_id': np.int32,\n",
    "            'product_id': np.uint16,\n",
    "            'user_total_orders':np.int8,\n",
    "            'user_total_items':np.int8,\n",
    "            'total_distinct_items':np.int8,\n",
    "            'user_average_days_between_orders':np.float32,\n",
    "            'user_average_basket':np.float32,\n",
    "            'dow':np.int8,\n",
    "            'order_hour_of_day':np.int8,\n",
    "            'days_since_prior_order':np.int16,\n",
    "            'days_since_ratio':np.float32,\n",
    "            'asile_id':np.int8,\n",
    "            'department_id':np.int8,\n",
    "            'product_orders':np.int16,\n",
    "            'product_reorders':np.int64,\n",
    "            'product_reorders_rate':np.float32,\n",
    "            'z':np.int32,\n",
    "            'UP_orders':np.int8,\n",
    "            'UP_orders_ratio':np.float32,\n",
    "            'UP_last_order_id':np.int32,\n",
    "            'UP_average_pos_in_cart':np.float32,\n",
    "            'UP_reorder_rate':np.float32,\n",
    "            'UP_orders_since_last':np.int8,\n",
    "            'UP_delta_hour_vs_last':np.int8})\n",
    "\n",
    "print('loading orders')\n",
    "orders = pd.read_csv('orders.csv', dtype={\n",
    "        'order_id': np.int32,\n",
    "        'user_id': np.int32,\n",
    "        'eval_set': 'category',\n",
    "        'order_number': np.int16,\n",
    "        'order_dow': np.int8,\n",
    "        'order_hour_of_day': np.int8,\n",
    "        'days_since_prior_order': np.float32})\n",
    "\n",
    "value = 0\n",
    "orders['days_since_prior_order']=orders['days_since_prior_order'].fillna(value)\n",
    "orders['days_since_prior_order'] = orders['days_since_prior_order'].astype(int)\n",
    "\n",
    "test_orders = orders[orders.eval_set == 'test']\n",
    "\n",
    "print('finished')"
   ]
  },
  {
   "cell_type": "markdown",
   "metadata": {},
   "source": [
    "### Splitting data for validating model"
   ]
  },
  {
   "cell_type": "code",
   "execution_count": 2,
   "metadata": {
    "collapsed": true
   },
   "outputs": [],
   "source": [
    "#Now splitting our dataset into train and validation \n",
    "\n",
    "from sklearn.model_selection import train_test_split \n",
    "x_train,x_test,y_train,y_test=train_test_split(train_x,train_y,test_size=.15)\n",
    "del train_x\n",
    "del train_y"
   ]
  },
  {
   "cell_type": "markdown",
   "metadata": {},
   "source": [
    "### Training the model"
   ]
  },
  {
   "cell_type": "code",
   "execution_count": 4,
   "metadata": {},
   "outputs": [],
   "source": [
    "# Features used for training the model\n",
    "f_to_use = ['user_total_orders', 'user_total_items', 'total_distinct_items',\n",
    "       'user_average_days_between_orders', 'user_average_basket',\n",
    "       'order_hour_of_day', 'days_since_prior_order', 'days_since_ratio',\n",
    "       'aisle_id', 'department_id', 'product_orders', 'product_reorders',\n",
    "       'product_reorder_rate', 'UP_orders', 'UP_orders_ratio',\n",
    "       'UP_average_pos_in_cart', 'UP_reorder_rate','dow','UP_orders_since_last','UP_delta_hour_vs_last'] \n",
    "\n",
    "xgdmat = xgb.DMatrix(x_train[f_to_use], y_train)\n",
    "\n",
    "our_params = {'alpha': 2e-05,\n",
    " 'colsample': 0.7,\n",
    " 'colsample_bytree': 0.99,\n",
    " 'eta': 0.3,\n",
    " 'eval_metric': 'mae',\n",
    " 'lambda': 10,\n",
    " 'max_depth': 4,\n",
    " 'min_child_weight': 8,\n",
    " 'objective': 'binary:logistic',\n",
    " 'subsample': 0.7}\n",
    "\n",
    "final_gb = xgb.train(our_params, xgdmat, num_boost_round = 100)\n",
    "del xgdmat\n",
    "\n",
    "# Gathering required features for test_orders and prediction\n",
    "testdmat = xgb.DMatrix(test_x[f_to_use])\n",
    "y_pred = final_gb.predict(testdmat)\n",
    "del testdmat\n",
    "\n",
    "test_x['preds']=y_pred"
   ]
  },
  {
   "cell_type": "markdown",
   "metadata": {},
   "source": [
    "### Validating the final model performance on validation data"
   ]
  },
  {
   "cell_type": "code",
   "execution_count": 6,
   "metadata": {},
   "outputs": [
    {
     "data": {
      "text/plain": [
       "0.86135462555066078"
      ]
     },
     "execution_count": 6,
     "metadata": {},
     "output_type": "execute_result"
    }
   ],
   "source": [
    "valdmat = xgb.DMatrix(x_test[f_to_use])\n",
    "y_pred = final_gb.predict(valdmat)\n",
    "\n",
    "#Converting probabilities into 1 or 0  \n",
    "for i in range(0,len(y_pred)): \n",
    "    if y_pred[i]>=0.2:       # setting threshold to .2 \n",
    "       y_pred[i]=1 \n",
    "    else: \n",
    "       y_pred[i]=0 \n",
    "\n",
    "#Calculating accuracy\n",
    "from sklearn.metrics import accuracy_score \n",
    "accuracy_xgb = accuracy_score(y_test,y_pred) \n",
    "accuracy_xgb"
   ]
  },
  {
   "cell_type": "markdown",
   "metadata": {},
   "source": [
    "### Formatting for submission"
   ]
  },
  {
   "cell_type": "code",
   "execution_count": 7,
   "metadata": {
    "collapsed": true
   },
   "outputs": [],
   "source": [
    "# Threshold value for classification is the error rate encountered in cross validation\n",
    "thres = 0.20\n",
    "d = dict()\n",
    "for row in test_x.itertuples():\n",
    "    if row.preds > thres:\n",
    "        try:\n",
    "            d[row.order_id] += ' ' + str(row.product_id)\n",
    "        except:\n",
    "            d[row.order_id] = str(row.product_id)\n",
    "\n",
    "for order in test_orders.order_id:\n",
    "    if order not in d:\n",
    "        d[order] = 'None'\n",
    "\n",
    "sub = pd.DataFrame.from_dict(d, orient='index')\n",
    "\n",
    "sub.reset_index(inplace=True)\n",
    "sub.columns = ['order_id', 'products']\n",
    "sub.to_csv('submission_xgboost.csv', index=False)"
   ]
  }
 ],
 "metadata": {
  "kernelspec": {
   "display_name": "Python 3",
   "language": "python",
   "name": "python3"
  },
  "language_info": {
   "codemirror_mode": {
    "name": "ipython",
    "version": 3
   },
   "file_extension": ".py",
   "mimetype": "text/x-python",
   "name": "python",
   "nbconvert_exporter": "python",
   "pygments_lexer": "ipython3",
   "version": "3.6.3"
  }
 },
 "nbformat": 4,
 "nbformat_minor": 2
}
